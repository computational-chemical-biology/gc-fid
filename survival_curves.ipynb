{
 "cells": [
  {
   "cell_type": "code",
   "execution_count": 3,
   "metadata": {},
   "outputs": [
    {
     "name": "stderr",
     "output_type": "stream",
     "text": [
      "also installing the dependencies ‘markdown’, ‘png’, ‘jpeg’, ‘xml2’, ‘exactRankTests’, ‘mvtnorm’, ‘KMsurv’, ‘zoo’, ‘km.ci’, ‘xtable’, ‘gridtext’, ‘maxstat’, ‘survMisc’, ‘ggtext’\n",
      "\n",
      "\n",
      "Updating HTML index of packages in '.Library'\n",
      "\n",
      "Making 'packages.html' ...\n",
      " done\n",
      "\n"
     ]
    }
   ],
   "source": [
    "install.packages('survminer')"
   ]
  },
  {
   "cell_type": "code",
   "execution_count": 68,
   "metadata": {},
   "outputs": [],
   "source": [
    "library(help=survminer)"
   ]
  },
  {
   "cell_type": "code",
   "execution_count": 4,
   "metadata": {},
   "outputs": [
    {
     "name": "stderr",
     "output_type": "stream",
     "text": [
      "Loading required package: ggplot2\n",
      "\n",
      "Loading required package: ggpubr\n",
      "\n"
     ]
    }
   ],
   "source": [
    "library(survminer)"
   ]
  },
  {
   "cell_type": "code",
   "execution_count": 5,
   "metadata": {},
   "outputs": [
    {
     "name": "stderr",
     "output_type": "stream",
     "text": [
      "Loading required package: survival\n",
      "\n"
     ]
    }
   ],
   "source": [
    "require(\"survival\")"
   ]
  },
  {
   "cell_type": "code",
   "execution_count": 6,
   "metadata": {},
   "outputs": [
    {
     "data": {
      "text/html": [
       "<table class=\"dataframe\">\n",
       "<caption>A data.frame: 6 × 10</caption>\n",
       "<thead>\n",
       "\t<tr><th></th><th scope=col>inst</th><th scope=col>time</th><th scope=col>status</th><th scope=col>age</th><th scope=col>sex</th><th scope=col>ph.ecog</th><th scope=col>ph.karno</th><th scope=col>pat.karno</th><th scope=col>meal.cal</th><th scope=col>wt.loss</th></tr>\n",
       "\t<tr><th></th><th scope=col>&lt;dbl&gt;</th><th scope=col>&lt;dbl&gt;</th><th scope=col>&lt;dbl&gt;</th><th scope=col>&lt;dbl&gt;</th><th scope=col>&lt;dbl&gt;</th><th scope=col>&lt;dbl&gt;</th><th scope=col>&lt;dbl&gt;</th><th scope=col>&lt;dbl&gt;</th><th scope=col>&lt;dbl&gt;</th><th scope=col>&lt;dbl&gt;</th></tr>\n",
       "</thead>\n",
       "<tbody>\n",
       "\t<tr><th scope=row>1</th><td> 3</td><td> 306</td><td>2</td><td>74</td><td>1</td><td>1</td><td> 90</td><td>100</td><td>1175</td><td>NA</td></tr>\n",
       "\t<tr><th scope=row>2</th><td> 3</td><td> 455</td><td>2</td><td>68</td><td>1</td><td>0</td><td> 90</td><td> 90</td><td>1225</td><td>15</td></tr>\n",
       "\t<tr><th scope=row>3</th><td> 3</td><td>1010</td><td>1</td><td>56</td><td>1</td><td>0</td><td> 90</td><td> 90</td><td>  NA</td><td>15</td></tr>\n",
       "\t<tr><th scope=row>4</th><td> 5</td><td> 210</td><td>2</td><td>57</td><td>1</td><td>1</td><td> 90</td><td> 60</td><td>1150</td><td>11</td></tr>\n",
       "\t<tr><th scope=row>5</th><td> 1</td><td> 883</td><td>2</td><td>60</td><td>1</td><td>0</td><td>100</td><td> 90</td><td>  NA</td><td> 0</td></tr>\n",
       "\t<tr><th scope=row>6</th><td>12</td><td>1022</td><td>1</td><td>74</td><td>1</td><td>1</td><td> 50</td><td> 80</td><td> 513</td><td> 0</td></tr>\n",
       "</tbody>\n",
       "</table>\n"
      ],
      "text/latex": [
       "A data.frame: 6 × 10\n",
       "\\begin{tabular}{r|llllllllll}\n",
       "  & inst & time & status & age & sex & ph.ecog & ph.karno & pat.karno & meal.cal & wt.loss\\\\\n",
       "  & <dbl> & <dbl> & <dbl> & <dbl> & <dbl> & <dbl> & <dbl> & <dbl> & <dbl> & <dbl>\\\\\n",
       "\\hline\n",
       "\t1 &  3 &  306 & 2 & 74 & 1 & 1 &  90 & 100 & 1175 & NA\\\\\n",
       "\t2 &  3 &  455 & 2 & 68 & 1 & 0 &  90 &  90 & 1225 & 15\\\\\n",
       "\t3 &  3 & 1010 & 1 & 56 & 1 & 0 &  90 &  90 &   NA & 15\\\\\n",
       "\t4 &  5 &  210 & 2 & 57 & 1 & 1 &  90 &  60 & 1150 & 11\\\\\n",
       "\t5 &  1 &  883 & 2 & 60 & 1 & 0 & 100 &  90 &   NA &  0\\\\\n",
       "\t6 & 12 & 1022 & 1 & 74 & 1 & 1 &  50 &  80 &  513 &  0\\\\\n",
       "\\end{tabular}\n"
      ],
      "text/markdown": [
       "\n",
       "A data.frame: 6 × 10\n",
       "\n",
       "| <!--/--> | inst &lt;dbl&gt; | time &lt;dbl&gt; | status &lt;dbl&gt; | age &lt;dbl&gt; | sex &lt;dbl&gt; | ph.ecog &lt;dbl&gt; | ph.karno &lt;dbl&gt; | pat.karno &lt;dbl&gt; | meal.cal &lt;dbl&gt; | wt.loss &lt;dbl&gt; |\n",
       "|---|---|---|---|---|---|---|---|---|---|---|\n",
       "| 1 |  3 |  306 | 2 | 74 | 1 | 1 |  90 | 100 | 1175 | NA |\n",
       "| 2 |  3 |  455 | 2 | 68 | 1 | 0 |  90 |  90 | 1225 | 15 |\n",
       "| 3 |  3 | 1010 | 1 | 56 | 1 | 0 |  90 |  90 |   NA | 15 |\n",
       "| 4 |  5 |  210 | 2 | 57 | 1 | 1 |  90 |  60 | 1150 | 11 |\n",
       "| 5 |  1 |  883 | 2 | 60 | 1 | 0 | 100 |  90 |   NA |  0 |\n",
       "| 6 | 12 | 1022 | 1 | 74 | 1 | 1 |  50 |  80 |  513 |  0 |\n",
       "\n"
      ],
      "text/plain": [
       "  inst time status age sex ph.ecog ph.karno pat.karno meal.cal wt.loss\n",
       "1  3    306 2      74  1   1        90      100       1175     NA     \n",
       "2  3    455 2      68  1   0        90       90       1225     15     \n",
       "3  3   1010 1      56  1   0        90       90         NA     15     \n",
       "4  5    210 2      57  1   1        90       60       1150     11     \n",
       "5  1    883 2      60  1   0       100       90         NA      0     \n",
       "6 12   1022 1      74  1   1        50       80        513      0     "
      ]
     },
     "metadata": {},
     "output_type": "display_data"
    }
   ],
   "source": [
    "head(lung)"
   ]
  },
  {
   "cell_type": "code",
   "execution_count": 7,
   "metadata": {},
   "outputs": [
    {
     "data": {
      "text/html": [
       "<style>\n",
       ".list-inline {list-style: none; margin:0; padding: 0}\n",
       ".list-inline>li {display: inline-block}\n",
       ".list-inline>li:not(:last-child)::after {content: \"\\00b7\"; padding: 0 .5ex}\n",
       "</style>\n",
       "<ol class=list-inline><li>228</li><li>10</li></ol>\n"
      ],
      "text/latex": [
       "\\begin{enumerate*}\n",
       "\\item 228\n",
       "\\item 10\n",
       "\\end{enumerate*}\n"
      ],
      "text/markdown": [
       "1. 228\n",
       "2. 10\n",
       "\n",
       "\n"
      ],
      "text/plain": [
       "[1] 228  10"
      ]
     },
     "metadata": {},
     "output_type": "display_data"
    }
   ],
   "source": [
    "dim(lung)"
   ]
  },
  {
   "cell_type": "code",
   "execution_count": 95,
   "metadata": {},
   "outputs": [],
   "source": [
    "fit <- survfit(Surv(time, status) ~ sex, data = lung)"
   ]
  },
  {
   "cell_type": "code",
   "execution_count": 96,
   "metadata": {},
   "outputs": [],
   "source": [
    "?Surv"
   ]
  },
  {
   "cell_type": "code",
   "execution_count": 97,
   "metadata": {},
   "outputs": [
    {
     "data": {
      "image/png": "[encoded data removed]",
      "text/plain": [
       "plot without title"
      ]
     },
     "metadata": {
      "image/png": {
       "height": 420,
       "width": 420
      }
     },
     "output_type": "display_data"
    }
   ],
   "source": [
    "ggsurvplot(fit, data = lung, pval=TRUE)"
   ]
  },
  {
   "cell_type": "markdown",
   "metadata": {},
   "source": [
    "## CCP data\n",
    "\n",
    "The [Kaplan-Meier](http://www.sthda.com/english/wiki/survival-analysis-basics) (KM) method is a non-parametric method used to estimate the survival probability from observed survival times (Kaplan and Meier, 1958).\n",
    "\n",
    "The survival probability at time ti, S(ti), is calculated as follow:\n",
    "\n",
    "$S_{(t_i)}=S_{(t_{i−1})}(1−\\frac{d_i}{n_i})$\n",
    "\n",
    "Where,\n",
    "\n",
    "S(ti−1) = the probability of being alive at ti−1\n",
    "\n",
    "ni = the number of patients alive just before ti\n",
    "\n",
    "di = the number of events at ti\n",
    "\n",
    "t0 = 0, S(0) = 1\n",
    "\n",
    "The estimated probability (S(t)) is a step function that changes value only at the time of each event. It’s also possible to compute confidence intervals for the survival probability.\n",
    "\n",
    "The KM survival curve, a plot of the KM survival probability against time, provides a useful summary of the data that can be used to estimate measures such as median survival time.\n",
    "\n"
   ]
  },
  {
   "cell_type": "code",
   "execution_count": 10,
   "metadata": {},
   "outputs": [
    {
     "data": {
      "text/plain": [
       "Call: survfit(formula = Surv(time, status) ~ sex, data = lung)\n",
       "\n",
       "        n events median 0.95LCL 0.95UCL\n",
       "sex=1 138    112    270     212     310\n",
       "sex=2  90     53    426     348     550"
      ]
     },
     "metadata": {},
     "output_type": "display_data"
    }
   ],
   "source": [
    "fit"
   ]
  },
  {
   "cell_type": "code",
   "execution_count": 26,
   "metadata": {},
   "outputs": [],
   "source": [
    "?read.delim"
   ]
  },
  {
   "cell_type": "code",
   "execution_count": 81,
   "metadata": {},
   "outputs": [],
   "source": [
    "ccp <- read.delim('sobrevivencia_ccp.tsv', check.names=FALSE, dec = \",\")"
   ]
  },
  {
   "cell_type": "code",
   "execution_count": 13,
   "metadata": {},
   "outputs": [
    {
     "data": {
      "text/html": [
       "<style>\n",
       ".list-inline {list-style: none; margin:0; padding: 0}\n",
       ".list-inline>li {display: inline-block}\n",
       ".list-inline>li:not(:last-child)::after {content: \"\\00b7\"; padding: 0 .5ex}\n",
       "</style>\n",
       "<ol class=list-inline><li>15</li><li>16</li></ol>\n"
      ],
      "text/latex": [
       "\\begin{enumerate*}\n",
       "\\item 15\n",
       "\\item 16\n",
       "\\end{enumerate*}\n"
      ],
      "text/markdown": [
       "1. 15\n",
       "2. 16\n",
       "\n",
       "\n"
      ],
      "text/plain": [
       "[1] 15 16"
      ]
     },
     "metadata": {},
     "output_type": "display_data"
    }
   ],
   "source": [
    "dim(ccp)"
   ]
  },
  {
   "cell_type": "code",
   "execution_count": 14,
   "metadata": {},
   "outputs": [
    {
     "data": {
      "text/plain": [
       "\n",
       " F  M \n",
       " 2 13 "
      ]
     },
     "metadata": {},
     "output_type": "display_data"
    }
   ],
   "source": [
    "table(ccp$Sexo)"
   ]
  },
  {
   "cell_type": "code",
   "execution_count": 15,
   "metadata": {},
   "outputs": [],
   "source": [
    "# (idade, linfonodo positivo, quimioterapia, radioterapia, classificação T, e metástase) "
   ]
  },
  {
   "cell_type": "code",
   "execution_count": 16,
   "metadata": {},
   "outputs": [
    {
     "data": {
      "text/plain": [
       "\n",
       "           Não Sem informação            Sim              X \n",
       "             3              1             10              1 "
      ]
     },
     "metadata": {},
     "output_type": "display_data"
    }
   ],
   "source": [
    "table(ccp[,'Linfonodo positivo'])"
   ]
  },
  {
   "cell_type": "code",
   "execution_count": 17,
   "metadata": {},
   "outputs": [
    {
     "data": {
      "text/plain": [
       "\n",
       "Não Sim \n",
       " 11   4 "
      ]
     },
     "metadata": {},
     "output_type": "display_data"
    }
   ],
   "source": [
    "table(ccp[,'Quimioterapia'])"
   ]
  },
  {
   "cell_type": "code",
   "execution_count": 18,
   "metadata": {},
   "outputs": [
    {
     "data": {
      "text/plain": [
       "\n",
       "Não Sim \n",
       "  3  12 "
      ]
     },
     "metadata": {},
     "output_type": "display_data"
    }
   ],
   "source": [
    "table(ccp[,'Radioterapia'])"
   ]
  },
  {
   "cell_type": "code",
   "execution_count": 19,
   "metadata": {},
   "outputs": [
    {
     "data": {
      "text/plain": [
       "\n",
       "Não Sim \n",
       " 14   1 "
      ]
     },
     "metadata": {},
     "output_type": "display_data"
    }
   ],
   "source": [
    "table(ccp[,'Metástase'])"
   ]
  },
  {
   "cell_type": "code",
   "execution_count": 20,
   "metadata": {},
   "outputs": [
    {
     "data": {
      "text/plain": [
       "\n",
       "41 46 49 52 53 54 55 59 60 69 70 76 \n",
       " 1  1  1  1  2  1  1  3  1  1  1  1 "
      ]
     },
     "metadata": {},
     "output_type": "display_data"
    }
   ],
   "source": [
    "table(ccp[,'Idade'])"
   ]
  },
  {
   "cell_type": "code",
   "execution_count": 21,
   "metadata": {},
   "outputs": [
    {
     "data": {
      "text/html": [
       "7"
      ],
      "text/latex": [
       "7"
      ],
      "text/markdown": [
       "7"
      ],
      "text/plain": [
       "[1] 7"
      ]
     },
     "metadata": {},
     "output_type": "display_data"
    }
   ],
   "source": [
    "sum(ccp[,'Idade']>55)"
   ]
  },
  {
   "cell_type": "code",
   "execution_count": 37,
   "metadata": {},
   "outputs": [
    {
     "data": {
      "text/plain": [
       "\n",
       "             1              3              4 Sem informação              X \n",
       "             2              5              5              1              2 "
      ]
     },
     "metadata": {},
     "output_type": "display_data"
    }
   ],
   "source": [
    "table(ccp[,'Classificação T (tamanho do turmor)'])"
   ]
  },
  {
   "cell_type": "code",
   "execution_count": 22,
   "metadata": {},
   "outputs": [
    {
     "data": {
      "text/plain": [
       "         Observação óbito\n",
       "Metástase não Não sim Sim\n",
       "      Não   3   2   2   7\n",
       "      Sim   0   0   1   0"
      ]
     },
     "metadata": {},
     "output_type": "display_data"
    }
   ],
   "source": [
    "table(ccp[,c('Metástase', 'Observação óbito')])"
   ]
  },
  {
   "cell_type": "code",
   "execution_count": 23,
   "metadata": {},
   "outputs": [
    {
     "data": {
      "text/plain": [
       "             Observação óbito\n",
       "Quimioterapia não Não sim Sim\n",
       "          Não   2   2   1   6\n",
       "          Sim   1   0   2   1"
      ]
     },
     "metadata": {},
     "output_type": "display_data"
    }
   ],
   "source": [
    "table(ccp[,c('Quimioterapia', 'Observação óbito')])"
   ]
  },
  {
   "cell_type": "code",
   "execution_count": 87,
   "metadata": {},
   "outputs": [
    {
     "data": {
      "text/html": [
       "<style>\n",
       ".list-inline {list-style: none; margin:0; padding: 0}\n",
       ".list-inline>li {display: inline-block}\n",
       ".list-inline>li:not(:last-child)::after {content: \"\\00b7\"; padding: 0 .5ex}\n",
       "</style>\n",
       "<ol class=list-inline><li>1</li><li>2</li><li>5</li><li>6</li><li>7</li><li>8</li><li>9</li><li>12</li><li>14</li><li>15</li></ol>\n"
      ],
      "text/latex": [
       "\\begin{enumerate*}\n",
       "\\item 1\n",
       "\\item 2\n",
       "\\item 5\n",
       "\\item 6\n",
       "\\item 7\n",
       "\\item 8\n",
       "\\item 9\n",
       "\\item 12\n",
       "\\item 14\n",
       "\\item 15\n",
       "\\end{enumerate*}\n"
      ],
      "text/markdown": [
       "1. 1\n",
       "2. 2\n",
       "3. 5\n",
       "4. 6\n",
       "5. 7\n",
       "6. 8\n",
       "7. 9\n",
       "8. 12\n",
       "9. 14\n",
       "10. 15\n",
       "\n",
       "\n"
      ],
      "text/plain": [
       " [1]  1  2  5  6  7  8  9 12 14 15"
      ]
     },
     "metadata": {},
     "output_type": "display_data"
    }
   ],
   "source": [
    "ccp$status <- 0\n",
    "\n",
    "grep('sim|Sim', ccp[,'Observação óbito'])"
   ]
  },
  {
   "cell_type": "code",
   "execution_count": 88,
   "metadata": {},
   "outputs": [],
   "source": [
    "ccp[grep('sim|Sim', ccp[,'Observação óbito']), 'status'] <- 1"
   ]
  },
  {
   "cell_type": "code",
   "execution_count": 86,
   "metadata": {},
   "outputs": [],
   "source": [
    "ccp$time <- ccp[, 'Período de observação (meses)']"
   ]
  },
  {
   "cell_type": "code",
   "execution_count": 38,
   "metadata": {},
   "outputs": [],
   "source": [
    "fit_chemo <- survfit(Surv(time, status) ~ Quimioterapia, data = ccp)"
   ]
  },
  {
   "cell_type": "code",
   "execution_count": 93,
   "metadata": {},
   "outputs": [
    {
     "data": {
      "image/png": "[encoded data removed]",
      "text/plain": [
       "plot without title"
      ]
     },
     "metadata": {
      "image/png": {
       "height": 420,
       "width": 420
      }
     },
     "output_type": "display_data"
    }
   ],
   "source": [
    "ggsurvplot(fit_chemo, data = ccp, title='Chemotherapy', pval=TRUE)"
   ]
  },
  {
   "cell_type": "code",
   "execution_count": 89,
   "metadata": {},
   "outputs": [],
   "source": [
    "ccp$age <- '>=55'"
   ]
  },
  {
   "cell_type": "code",
   "execution_count": 90,
   "metadata": {},
   "outputs": [],
   "source": [
    "ccp[ccp[,'Idade']<55, 'age'] <- '<55'"
   ]
  },
  {
   "cell_type": "code",
   "execution_count": 91,
   "metadata": {},
   "outputs": [],
   "source": [
    "fit_age <- survfit(Surv(time, status) ~ age, data = ccp)"
   ]
  },
  {
   "cell_type": "code",
   "execution_count": 92,
   "metadata": {},
   "outputs": [
    {
     "data": {
      "image/png": "[encoded data removed]",
      "text/plain": [
       "plot without title"
      ]
     },
     "metadata": {
      "image/png": {
       "height": 420,
       "width": 420
      }
     },
     "output_type": "display_data"
    }
   ],
   "source": [
    "ggsurvplot(fit_age, data = ccp, title='Age', pval=TRUE)"
   ]
  },
  {
   "cell_type": "code",
   "execution_count": 44,
   "metadata": {},
   "outputs": [
    {
     "data": {
      "text/html": [
       "<style>\n",
       ".list-inline {list-style: none; margin:0; padding: 0}\n",
       ".list-inline>li {display: inline-block}\n",
       ".list-inline>li:not(:last-child)::after {content: \"\\00b7\"; padding: 0 .5ex}\n",
       "</style>\n",
       "<ol class=list-inline><li>41</li><li>53</li><li>52</li><li>53</li><li>46</li><li>49</li><li>54</li></ol>\n"
      ],
      "text/latex": [
       "\\begin{enumerate*}\n",
       "\\item 41\n",
       "\\item 53\n",
       "\\item 52\n",
       "\\item 53\n",
       "\\item 46\n",
       "\\item 49\n",
       "\\item 54\n",
       "\\end{enumerate*}\n"
      ],
      "text/markdown": [
       "1. 41\n",
       "2. 53\n",
       "3. 52\n",
       "4. 53\n",
       "5. 46\n",
       "6. 49\n",
       "7. 54\n",
       "\n",
       "\n"
      ],
      "text/plain": [
       "[1] 41 53 52 53 46 49 54"
      ]
     },
     "metadata": {},
     "output_type": "display_data"
    }
   ],
   "source": [
    "ccp[ccp[,'Idade']<55, 'Idade']"
   ]
  },
  {
   "cell_type": "code",
   "execution_count": 45,
   "metadata": {},
   "outputs": [
    {
     "data": {
      "text/html": [
       "<style>\n",
       ".list-inline {list-style: none; margin:0; padding: 0}\n",
       ".list-inline>li {display: inline-block}\n",
       ".list-inline>li:not(:last-child)::after {content: \"\\00b7\"; padding: 0 .5ex}\n",
       "</style>\n",
       "<ol class=list-inline><li>3</li><li>4</li><li>3</li><li>4</li><li>1</li><li>4</li><li>1</li><li>4</li><li>X</li><li>4</li><li>Sem informação</li><li>3</li><li>3</li><li>X</li><li>3</li></ol>\n",
       "\n",
       "<details>\n",
       "\t<summary style=display:list-item;cursor:pointer>\n",
       "\t\t<strong>Levels</strong>:\n",
       "\t</summary>\n",
       "\t<style>\n",
       "\t.list-inline {list-style: none; margin:0; padding: 0}\n",
       "\t.list-inline>li {display: inline-block}\n",
       "\t.list-inline>li:not(:last-child)::after {content: \"\\00b7\"; padding: 0 .5ex}\n",
       "\t</style>\n",
       "\t<ol class=list-inline><li>'1'</li><li>'3'</li><li>'4'</li><li>'Sem informação'</li><li>'X'</li></ol>\n",
       "</details>"
      ],
      "text/latex": [
       "\\begin{enumerate*}\n",
       "\\item 3\n",
       "\\item 4\n",
       "\\item 3\n",
       "\\item 4\n",
       "\\item 1\n",
       "\\item 4\n",
       "\\item 1\n",
       "\\item 4\n",
       "\\item X\n",
       "\\item 4\n",
       "\\item Sem informação\n",
       "\\item 3\n",
       "\\item 3\n",
       "\\item X\n",
       "\\item 3\n",
       "\\end{enumerate*}\n",
       "\n",
       "\\emph{Levels}: \\begin{enumerate*}\n",
       "\\item '1'\n",
       "\\item '3'\n",
       "\\item '4'\n",
       "\\item 'Sem informação'\n",
       "\\item 'X'\n",
       "\\end{enumerate*}\n"
      ],
      "text/markdown": [
       "1. 3\n",
       "2. 4\n",
       "3. 3\n",
       "4. 4\n",
       "5. 1\n",
       "6. 4\n",
       "7. 1\n",
       "8. 4\n",
       "9. X\n",
       "10. 4\n",
       "11. Sem informação\n",
       "12. 3\n",
       "13. 3\n",
       "14. X\n",
       "15. 3\n",
       "\n",
       "\n",
       "\n",
       "**Levels**: 1. '1'\n",
       "2. '3'\n",
       "3. '4'\n",
       "4. 'Sem informação'\n",
       "5. 'X'\n",
       "\n",
       "\n"
      ],
      "text/plain": [
       " [1] 3              4              3              4              1             \n",
       " [6] 4              1              4              X              4             \n",
       "[11] Sem informação 3              3              X              3             \n",
       "Levels: 1 3 4 Sem informação X"
      ]
     },
     "metadata": {},
     "output_type": "display_data"
    }
   ],
   "source": [
    "ccp[,'Classificação T (tamanho do turmor)']"
   ]
  },
  {
   "cell_type": "code",
   "execution_count": 47,
   "metadata": {},
   "outputs": [
    {
     "data": {
      "text/html": [
       "<style>\n",
       ".list-inline {list-style: none; margin:0; padding: 0}\n",
       ".list-inline>li {display: inline-block}\n",
       ".list-inline>li:not(:last-child)::after {content: \"\\00b7\"; padding: 0 .5ex}\n",
       "</style>\n",
       "<ol class=list-inline><li>FALSE</li><li>FALSE</li><li>FALSE</li><li>FALSE</li><li>FALSE</li><li>FALSE</li><li>FALSE</li><li>FALSE</li><li>TRUE</li><li>FALSE</li><li>FALSE</li><li>FALSE</li><li>FALSE</li><li>TRUE</li><li>FALSE</li></ol>\n"
      ],
      "text/latex": [
       "\\begin{enumerate*}\n",
       "\\item FALSE\n",
       "\\item FALSE\n",
       "\\item FALSE\n",
       "\\item FALSE\n",
       "\\item FALSE\n",
       "\\item FALSE\n",
       "\\item FALSE\n",
       "\\item FALSE\n",
       "\\item TRUE\n",
       "\\item FALSE\n",
       "\\item FALSE\n",
       "\\item FALSE\n",
       "\\item FALSE\n",
       "\\item TRUE\n",
       "\\item FALSE\n",
       "\\end{enumerate*}\n"
      ],
      "text/markdown": [
       "1. FALSE\n",
       "2. FALSE\n",
       "3. FALSE\n",
       "4. FALSE\n",
       "5. FALSE\n",
       "6. FALSE\n",
       "7. FALSE\n",
       "8. FALSE\n",
       "9. TRUE\n",
       "10. FALSE\n",
       "11. FALSE\n",
       "12. FALSE\n",
       "13. FALSE\n",
       "14. TRUE\n",
       "15. FALSE\n",
       "\n",
       "\n"
      ],
      "text/plain": [
       " [1] FALSE FALSE FALSE FALSE FALSE FALSE FALSE FALSE  TRUE FALSE FALSE FALSE\n",
       "[13] FALSE  TRUE FALSE"
      ]
     },
     "metadata": {},
     "output_type": "display_data"
    }
   ],
   "source": [
    "as.numeric(ccp[,'Classificação T (tamanho do turmor)'])>4"
   ]
  },
  {
   "cell_type": "code",
   "execution_count": 57,
   "metadata": {},
   "outputs": [
    {
     "name": "stderr",
     "output_type": "stream",
     "text": [
      "Warning message in eval(expr, envir, enclos):\n",
      "“NAs introduced by coercion”\n"
     ]
    },
    {
     "data": {
      "text/html": [
       "<style>\n",
       ".list-inline {list-style: none; margin:0; padding: 0}\n",
       ".list-inline>li {display: inline-block}\n",
       ".list-inline>li:not(:last-child)::after {content: \"\\00b7\"; padding: 0 .5ex}\n",
       "</style>\n",
       "<ol class=list-inline><li>3</li><li>4</li><li>3</li><li>4</li><li>1</li><li>4</li><li>1</li><li>4</li><li>&lt;NA&gt;</li><li>4</li><li>&lt;NA&gt;</li><li>3</li><li>3</li><li>&lt;NA&gt;</li><li>3</li></ol>\n"
      ],
      "text/latex": [
       "\\begin{enumerate*}\n",
       "\\item 3\n",
       "\\item 4\n",
       "\\item 3\n",
       "\\item 4\n",
       "\\item 1\n",
       "\\item 4\n",
       "\\item 1\n",
       "\\item 4\n",
       "\\item <NA>\n",
       "\\item 4\n",
       "\\item <NA>\n",
       "\\item 3\n",
       "\\item 3\n",
       "\\item <NA>\n",
       "\\item 3\n",
       "\\end{enumerate*}\n"
      ],
      "text/markdown": [
       "1. 3\n",
       "2. 4\n",
       "3. 3\n",
       "4. 4\n",
       "5. 1\n",
       "6. 4\n",
       "7. 1\n",
       "8. 4\n",
       "9. &lt;NA&gt;\n",
       "10. 4\n",
       "11. &lt;NA&gt;\n",
       "12. 3\n",
       "13. 3\n",
       "14. &lt;NA&gt;\n",
       "15. 3\n",
       "\n",
       "\n"
      ],
      "text/plain": [
       " [1]  3  4  3  4  1  4  1  4 NA  4 NA  3  3 NA  3"
      ]
     },
     "metadata": {},
     "output_type": "display_data"
    }
   ],
   "source": [
    "as.numeric(as.character(ccp[,'Classificação T (tamanho do turmor)']))"
   ]
  },
  {
   "cell_type": "code",
   "execution_count": 56,
   "metadata": {},
   "outputs": [
    {
     "data": {
      "text/html": [
       "<style>\n",
       ".list-inline {list-style: none; margin:0; padding: 0}\n",
       ".list-inline>li {display: inline-block}\n",
       ".list-inline>li:not(:last-child)::after {content: \"\\00b7\"; padding: 0 .5ex}\n",
       "</style>\n",
       "<ol class=list-inline><li>3</li><li>4</li><li>3</li><li>4</li><li>1</li><li>4</li><li>1</li><li>4</li><li>X</li><li>4</li><li>Sem informação</li><li>3</li><li>3</li><li>X</li><li>3</li></ol>\n",
       "\n",
       "<details>\n",
       "\t<summary style=display:list-item;cursor:pointer>\n",
       "\t\t<strong>Levels</strong>:\n",
       "\t</summary>\n",
       "\t<style>\n",
       "\t.list-inline {list-style: none; margin:0; padding: 0}\n",
       "\t.list-inline>li {display: inline-block}\n",
       "\t.list-inline>li:not(:last-child)::after {content: \"\\00b7\"; padding: 0 .5ex}\n",
       "\t</style>\n",
       "\t<ol class=list-inline><li>'1'</li><li>'3'</li><li>'4'</li><li>'Sem informação'</li><li>'X'</li></ol>\n",
       "</details>"
      ],
      "text/latex": [
       "\\begin{enumerate*}\n",
       "\\item 3\n",
       "\\item 4\n",
       "\\item 3\n",
       "\\item 4\n",
       "\\item 1\n",
       "\\item 4\n",
       "\\item 1\n",
       "\\item 4\n",
       "\\item X\n",
       "\\item 4\n",
       "\\item Sem informação\n",
       "\\item 3\n",
       "\\item 3\n",
       "\\item X\n",
       "\\item 3\n",
       "\\end{enumerate*}\n",
       "\n",
       "\\emph{Levels}: \\begin{enumerate*}\n",
       "\\item '1'\n",
       "\\item '3'\n",
       "\\item '4'\n",
       "\\item 'Sem informação'\n",
       "\\item 'X'\n",
       "\\end{enumerate*}\n"
      ],
      "text/markdown": [
       "1. 3\n",
       "2. 4\n",
       "3. 3\n",
       "4. 4\n",
       "5. 1\n",
       "6. 4\n",
       "7. 1\n",
       "8. 4\n",
       "9. X\n",
       "10. 4\n",
       "11. Sem informação\n",
       "12. 3\n",
       "13. 3\n",
       "14. X\n",
       "15. 3\n",
       "\n",
       "\n",
       "\n",
       "**Levels**: 1. '1'\n",
       "2. '3'\n",
       "3. '4'\n",
       "4. 'Sem informação'\n",
       "5. 'X'\n",
       "\n",
       "\n"
      ],
      "text/plain": [
       " [1] 3              4              3              4              1             \n",
       " [6] 4              1              4              X              4             \n",
       "[11] Sem informação 3              3              X              3             \n",
       "Levels: 1 3 4 Sem informação X"
      ]
     },
     "metadata": {},
     "output_type": "display_data"
    }
   ],
   "source": [
    "ccp[,'Classificação T (tamanho do turmor)']"
   ]
  },
  {
   "cell_type": "code",
   "execution_count": 58,
   "metadata": {},
   "outputs": [
    {
     "name": "stderr",
     "output_type": "stream",
     "text": [
      "Warning message in eval(expr, envir, enclos):\n",
      "“NAs introduced by coercion”\n"
     ]
    }
   ],
   "source": [
    "num <- as.numeric(as.character(ccp[,'Classificação T (tamanho do turmor)']))"
   ]
  },
  {
   "cell_type": "code",
   "execution_count": 60,
   "metadata": {},
   "outputs": [
    {
     "data": {
      "text/html": [
       "<style>\n",
       ".list-inline {list-style: none; margin:0; padding: 0}\n",
       ".list-inline>li {display: inline-block}\n",
       ".list-inline>li:not(:last-child)::after {content: \"\\00b7\"; padding: 0 .5ex}\n",
       "</style>\n",
       "<ol class=list-inline><li>TRUE</li><li>FALSE</li><li>TRUE</li><li>FALSE</li><li>TRUE</li><li>FALSE</li><li>TRUE</li><li>FALSE</li><li>&lt;NA&gt;</li><li>FALSE</li><li>&lt;NA&gt;</li><li>TRUE</li><li>TRUE</li><li>&lt;NA&gt;</li><li>TRUE</li></ol>\n"
      ],
      "text/latex": [
       "\\begin{enumerate*}\n",
       "\\item TRUE\n",
       "\\item FALSE\n",
       "\\item TRUE\n",
       "\\item FALSE\n",
       "\\item TRUE\n",
       "\\item FALSE\n",
       "\\item TRUE\n",
       "\\item FALSE\n",
       "\\item <NA>\n",
       "\\item FALSE\n",
       "\\item <NA>\n",
       "\\item TRUE\n",
       "\\item TRUE\n",
       "\\item <NA>\n",
       "\\item TRUE\n",
       "\\end{enumerate*}\n"
      ],
      "text/markdown": [
       "1. TRUE\n",
       "2. FALSE\n",
       "3. TRUE\n",
       "4. FALSE\n",
       "5. TRUE\n",
       "6. FALSE\n",
       "7. TRUE\n",
       "8. FALSE\n",
       "9. &lt;NA&gt;\n",
       "10. FALSE\n",
       "11. &lt;NA&gt;\n",
       "12. TRUE\n",
       "13. TRUE\n",
       "14. &lt;NA&gt;\n",
       "15. TRUE\n",
       "\n",
       "\n"
      ],
      "text/plain": [
       " [1]  TRUE FALSE  TRUE FALSE  TRUE FALSE  TRUE FALSE    NA FALSE    NA  TRUE\n",
       "[13]  TRUE    NA  TRUE"
      ]
     },
     "metadata": {},
     "output_type": "display_data"
    }
   ],
   "source": [
    "num < 4"
   ]
  },
  {
   "cell_type": "code",
   "execution_count": 99,
   "metadata": {},
   "outputs": [
    {
     "data": {
      "text/html": [
       "<table class=\"dataframe\">\n",
       "<caption>A data.frame: 15 × 2</caption>\n",
       "<thead>\n",
       "\t<tr><th scope=col>tumor</th><th scope=col>Classificação T (tamanho do turmor)</th></tr>\n",
       "\t<tr><th scope=col>&lt;chr&gt;</th><th scope=col>&lt;fct&gt;</th></tr>\n",
       "</thead>\n",
       "<tbody>\n",
       "\t<tr><td>&lt;4 </td><td><span style=white-space:pre-wrap>3             </span></td></tr>\n",
       "\t<tr><td>&gt;=4</td><td><span style=white-space:pre-wrap>4             </span></td></tr>\n",
       "\t<tr><td>&lt;4 </td><td><span style=white-space:pre-wrap>3             </span></td></tr>\n",
       "\t<tr><td>&gt;=4</td><td><span style=white-space:pre-wrap>4             </span></td></tr>\n",
       "\t<tr><td>&lt;4 </td><td><span style=white-space:pre-wrap>1             </span></td></tr>\n",
       "\t<tr><td>&gt;=4</td><td><span style=white-space:pre-wrap>4             </span></td></tr>\n",
       "\t<tr><td>&lt;4 </td><td><span style=white-space:pre-wrap>1             </span></td></tr>\n",
       "\t<tr><td>&gt;=4</td><td><span style=white-space:pre-wrap>4             </span></td></tr>\n",
       "\t<tr><td>&gt;=4</td><td><span style=white-space:pre-wrap>X             </span></td></tr>\n",
       "\t<tr><td>&gt;=4</td><td><span style=white-space:pre-wrap>4             </span></td></tr>\n",
       "\t<tr><td>&gt;=4</td><td>Sem informação</td></tr>\n",
       "\t<tr><td>&lt;4 </td><td><span style=white-space:pre-wrap>3             </span></td></tr>\n",
       "\t<tr><td>&lt;4 </td><td><span style=white-space:pre-wrap>3             </span></td></tr>\n",
       "\t<tr><td>&gt;=4</td><td><span style=white-space:pre-wrap>X             </span></td></tr>\n",
       "\t<tr><td>&lt;4 </td><td><span style=white-space:pre-wrap>3             </span></td></tr>\n",
       "</tbody>\n",
       "</table>\n"
      ],
      "text/latex": [
       "A data.frame: 15 × 2\n",
       "\\begin{tabular}{ll}\n",
       " tumor & Classificação T (tamanho do turmor)\\\\\n",
       " <chr> & <fct>\\\\\n",
       "\\hline\n",
       "\t <4  & 3             \\\\\n",
       "\t >=4 & 4             \\\\\n",
       "\t <4  & 3             \\\\\n",
       "\t >=4 & 4             \\\\\n",
       "\t <4  & 1             \\\\\n",
       "\t >=4 & 4             \\\\\n",
       "\t <4  & 1             \\\\\n",
       "\t >=4 & 4             \\\\\n",
       "\t >=4 & X             \\\\\n",
       "\t >=4 & 4             \\\\\n",
       "\t >=4 & Sem informação\\\\\n",
       "\t <4  & 3             \\\\\n",
       "\t <4  & 3             \\\\\n",
       "\t >=4 & X             \\\\\n",
       "\t <4  & 3             \\\\\n",
       "\\end{tabular}\n"
      ],
      "text/markdown": [
       "\n",
       "A data.frame: 15 × 2\n",
       "\n",
       "| tumor &lt;chr&gt; | Classificação T (tamanho do turmor) &lt;fct&gt; |\n",
       "|---|---|\n",
       "| &lt;4  | 3              |\n",
       "| &gt;=4 | 4              |\n",
       "| &lt;4  | 3              |\n",
       "| &gt;=4 | 4              |\n",
       "| &lt;4  | 1              |\n",
       "| &gt;=4 | 4              |\n",
       "| &lt;4  | 1              |\n",
       "| &gt;=4 | 4              |\n",
       "| &gt;=4 | X              |\n",
       "| &gt;=4 | 4              |\n",
       "| &gt;=4 | Sem informação |\n",
       "| &lt;4  | 3              |\n",
       "| &lt;4  | 3              |\n",
       "| &gt;=4 | X              |\n",
       "| &lt;4  | 3              |\n",
       "\n"
      ],
      "text/plain": [
       "   tumor Classificação T (tamanho do turmor)\n",
       "1  <4    3                                  \n",
       "2  >=4   4                                  \n",
       "3  <4    3                                  \n",
       "4  >=4   4                                  \n",
       "5  <4    1                                  \n",
       "6  >=4   4                                  \n",
       "7  <4    1                                  \n",
       "8  >=4   4                                  \n",
       "9  >=4   X                                  \n",
       "10 >=4   4                                  \n",
       "11 >=4   Sem informação                     \n",
       "12 <4    3                                  \n",
       "13 <4    3                                  \n",
       "14 >=4   X                                  \n",
       "15 <4    3                                  "
      ]
     },
     "metadata": {},
     "output_type": "display_data"
    }
   ],
   "source": [
    "ccp$tumor <- '>=4'\n",
    "\n",
    "ccp[num<4 & !is.na(num), 'tumor'] <- '<4'\n",
    "\n",
    "ccp[,c('tumor', 'Classificação T (tamanho do turmor)')]"
   ]
  },
  {
   "cell_type": "code",
   "execution_count": 100,
   "metadata": {},
   "outputs": [
    {
     "data": {
      "text/html": [
       "<table class=\"dataframe\">\n",
       "<caption>A data.frame: 12 × 2</caption>\n",
       "<thead>\n",
       "\t<tr><th></th><th scope=col>tumor</th><th scope=col>Classificação T (tamanho do turmor)</th></tr>\n",
       "\t<tr><th></th><th scope=col>&lt;chr&gt;</th><th scope=col>&lt;fct&gt;</th></tr>\n",
       "</thead>\n",
       "<tbody>\n",
       "\t<tr><th scope=row>1</th><td>&lt;4 </td><td>3</td></tr>\n",
       "\t<tr><th scope=row>2</th><td>&gt;=4</td><td>4</td></tr>\n",
       "\t<tr><th scope=row>3</th><td>&lt;4 </td><td>3</td></tr>\n",
       "\t<tr><th scope=row>4</th><td>&gt;=4</td><td>4</td></tr>\n",
       "\t<tr><th scope=row>5</th><td>&lt;4 </td><td>1</td></tr>\n",
       "\t<tr><th scope=row>6</th><td>&gt;=4</td><td>4</td></tr>\n",
       "\t<tr><th scope=row>7</th><td>&lt;4 </td><td>1</td></tr>\n",
       "\t<tr><th scope=row>8</th><td>&gt;=4</td><td>4</td></tr>\n",
       "\t<tr><th scope=row>10</th><td>&gt;=4</td><td>4</td></tr>\n",
       "\t<tr><th scope=row>12</th><td>&lt;4 </td><td>3</td></tr>\n",
       "\t<tr><th scope=row>13</th><td>&lt;4 </td><td>3</td></tr>\n",
       "\t<tr><th scope=row>15</th><td>&lt;4 </td><td>3</td></tr>\n",
       "</tbody>\n",
       "</table>\n"
      ],
      "text/latex": [
       "A data.frame: 12 × 2\n",
       "\\begin{tabular}{r|ll}\n",
       "  & tumor & Classificação T (tamanho do turmor)\\\\\n",
       "  & <chr> & <fct>\\\\\n",
       "\\hline\n",
       "\t1 & <4  & 3\\\\\n",
       "\t2 & >=4 & 4\\\\\n",
       "\t3 & <4  & 3\\\\\n",
       "\t4 & >=4 & 4\\\\\n",
       "\t5 & <4  & 1\\\\\n",
       "\t6 & >=4 & 4\\\\\n",
       "\t7 & <4  & 1\\\\\n",
       "\t8 & >=4 & 4\\\\\n",
       "\t10 & >=4 & 4\\\\\n",
       "\t12 & <4  & 3\\\\\n",
       "\t13 & <4  & 3\\\\\n",
       "\t15 & <4  & 3\\\\\n",
       "\\end{tabular}\n"
      ],
      "text/markdown": [
       "\n",
       "A data.frame: 12 × 2\n",
       "\n",
       "| <!--/--> | tumor &lt;chr&gt; | Classificação T (tamanho do turmor) &lt;fct&gt; |\n",
       "|---|---|---|\n",
       "| 1 | &lt;4  | 3 |\n",
       "| 2 | &gt;=4 | 4 |\n",
       "| 3 | &lt;4  | 3 |\n",
       "| 4 | &gt;=4 | 4 |\n",
       "| 5 | &lt;4  | 1 |\n",
       "| 6 | &gt;=4 | 4 |\n",
       "| 7 | &lt;4  | 1 |\n",
       "| 8 | &gt;=4 | 4 |\n",
       "| 10 | &gt;=4 | 4 |\n",
       "| 12 | &lt;4  | 3 |\n",
       "| 13 | &lt;4  | 3 |\n",
       "| 15 | &lt;4  | 3 |\n",
       "\n"
      ],
      "text/plain": [
       "   tumor Classificação T (tamanho do turmor)\n",
       "1  <4    3                                  \n",
       "2  >=4   4                                  \n",
       "3  <4    3                                  \n",
       "4  >=4   4                                  \n",
       "5  <4    1                                  \n",
       "6  >=4   4                                  \n",
       "7  <4    1                                  \n",
       "8  >=4   4                                  \n",
       "10 >=4   4                                  \n",
       "12 <4    3                                  \n",
       "13 <4    3                                  \n",
       "15 <4    3                                  "
      ]
     },
     "metadata": {},
     "output_type": "display_data"
    }
   ],
   "source": [
    "ccp[!grepl('X|S', ccp[,'Classificação T (tamanho do turmor)']),c('tumor', 'Classificação T (tamanho do turmor)')]"
   ]
  },
  {
   "cell_type": "code",
   "execution_count": 76,
   "metadata": {},
   "outputs": [
    {
     "data": {
      "image/png": "[encoded data removed]",
      "text/plain": [
       "plot without title"
      ]
     },
     "metadata": {
      "image/png": {
       "height": 420,
       "width": 420
      }
     },
     "output_type": "display_data"
    }
   ],
   "source": [
    "fit_tumor <- survfit(Surv(time, status) ~ tumor, \n",
    "                     data = ccp[!grepl('X|S', ccp[,'Classificação T (tamanho do turmor)']),])\n",
    "\n",
    "ggsurvplot(fit_tumor, data = ccp[!grepl('X|S', ccp[,'Classificação T (tamanho do turmor)']),], \n",
    "           title='Tumor Size', pval=TRUE)"
   ]
  },
  {
   "cell_type": "code",
   "execution_count": 67,
   "metadata": {},
   "outputs": [
    {
     "data": {
      "text/plain": [
       "Call: survfit(formula = Surv(time, status) ~ tumor, data = ccp[!grepl(\"X|S\", \n",
       "    ccp[, \"Classificação T (tamanho do turmor)\"]), ])\n",
       "\n",
       "                tumor=<4 \n",
       " time n.risk n.event survival std.err lower 95% CI upper 95% CI\n",
       "  4.5      7       2    0.714   0.171       0.4471        1.000\n",
       "  6.0      5       1    0.571   0.187       0.3008        1.000\n",
       "  8.0      4       1    0.429   0.187       0.1822        1.000\n",
       " 13.0      3       1    0.286   0.171       0.0886        0.922\n",
       "\n",
       "                tumor=>=4 \n",
       " time n.risk n.event survival std.err lower 95% CI upper 95% CI\n",
       "  2.0      5       2      0.6   0.219        0.293            1\n",
       " 11.5      3       1      0.4   0.219        0.137            1\n"
      ]
     },
     "metadata": {},
     "output_type": "display_data"
    }
   ],
   "source": [
    "summary(fit_tumor)"
   ]
  },
  {
   "cell_type": "code",
   "execution_count": 79,
   "metadata": {},
   "outputs": [],
   "source": [
    "#http://r-addict.com/2017/02/09/Fancy-Survival-Plots.html\n",
    "?surv_pvalue"
   ]
  },
  {
   "cell_type": "code",
   "execution_count": 70,
   "metadata": {},
   "outputs": [],
   "source": [
    "fit.null <- surv_fit(Surv(time, status) ~ 1, data = ccp)"
   ]
  },
  {
   "cell_type": "code",
   "execution_count": 72,
   "metadata": {},
   "outputs": [
    {
     "data": {
      "image/png": "[encoded data removed]",
      "text/plain": [
       "plot without title"
      ]
     },
     "metadata": {
      "image/png": {
       "height": 420,
       "width": 420
      }
     },
     "output_type": "display_data"
    }
   ],
   "source": [
    "ggsurvplot(fit.null, data = ccp)"
   ]
  },
  {
   "cell_type": "code",
   "execution_count": 75,
   "metadata": {},
   "outputs": [],
   "source": [
    "?ggsurvplot"
   ]
  },
  {
   "cell_type": "code",
   "execution_count": 77,
   "metadata": {},
   "outputs": [
    {
     "data": {
      "text/html": [
       "<table class=\"dataframe\">\n",
       "<caption>A data.frame: 1 × 4</caption>\n",
       "<thead>\n",
       "\t<tr><th scope=col>variable</th><th scope=col>pval</th><th scope=col>method</th><th scope=col>pval.txt</th></tr>\n",
       "\t<tr><th scope=col>&lt;chr&gt;</th><th scope=col>&lt;dbl&gt;</th><th scope=col>&lt;chr&gt;</th><th scope=col>&lt;chr&gt;</th></tr>\n",
       "</thead>\n",
       "<tbody>\n",
       "\t<tr><td>tumor</td><td>0.9183723</td><td>Log-rank</td><td>p = 0.92</td></tr>\n",
       "</tbody>\n",
       "</table>\n"
      ],
      "text/latex": [
       "A data.frame: 1 × 4\n",
       "\\begin{tabular}{llll}\n",
       " variable & pval & method & pval.txt\\\\\n",
       " <chr> & <dbl> & <chr> & <chr>\\\\\n",
       "\\hline\n",
       "\t tumor & 0.9183723 & Log-rank & p = 0.92\\\\\n",
       "\\end{tabular}\n"
      ],
      "text/markdown": [
       "\n",
       "A data.frame: 1 × 4\n",
       "\n",
       "| variable &lt;chr&gt; | pval &lt;dbl&gt; | method &lt;chr&gt; | pval.txt &lt;chr&gt; |\n",
       "|---|---|---|---|\n",
       "| tumor | 0.9183723 | Log-rank | p = 0.92 |\n",
       "\n"
      ],
      "text/plain": [
       "  variable pval      method   pval.txt\n",
       "1 tumor    0.9183723 Log-rank p = 0.92"
      ]
     },
     "metadata": {},
     "output_type": "display_data"
    }
   ],
   "source": [
    "surv_pvalue(fit_tumor)"
   ]
  },
  {
   "cell_type": "code",
   "execution_count": 104,
   "metadata": {},
   "outputs": [
    {
     "data": {
      "text/html": [
       "<strong>pdf:</strong> 3"
      ],
      "text/latex": [
       "\\textbf{pdf:} 3"
      ],
      "text/markdown": [
       "**pdf:** 3"
      ],
      "text/plain": [
       "pdf \n",
       "  3 "
      ]
     },
     "metadata": {},
     "output_type": "display_data"
    }
   ],
   "source": [
    "dev.off()"
   ]
  },
  {
   "cell_type": "code",
   "execution_count": 105,
   "metadata": {},
   "outputs": [
    {
     "data": {
      "text/html": [
       "<strong>png:</strong> 2"
      ],
      "text/latex": [
       "\\textbf{png:} 2"
      ],
      "text/markdown": [
       "**png:** 2"
      ],
      "text/plain": [
       "png \n",
       "  2 "
      ]
     },
     "metadata": {},
     "output_type": "display_data"
    }
   ],
   "source": [
    "pdf('ccp_survival_curves.pdf')\n",
    "ggsurvplot(fit_chemo, data = ccp, title='Chemotherapy', pval=TRUE)\n",
    "ggsurvplot(fit_age, data = ccp, title='Age', pval=TRUE)\n",
    "ggsurvplot(fit_tumor, data = ccp[!grepl('X|S', ccp[,'Classificação T (tamanho do turmor)']),], \n",
    "           title='Tumor Size', pval=TRUE)\n",
    "dev.off()"
   ]
  },
  {
   "cell_type": "markdown",
   "metadata": {},
   "source": [
    "## CG data"
   ]
  },
  {
   "cell_type": "code",
   "execution_count": 146,
   "metadata": {},
   "outputs": [],
   "source": [
    "cg <- read.delim('sobrevivencia_cg.tsv', check.names=FALSE, dec = \",\")"
   ]
  },
  {
   "cell_type": "code",
   "execution_count": 149,
   "metadata": {},
   "outputs": [
    {
     "data": {
      "text/plain": [
       "\n",
       "             1            1,5             12           13,5              2 \n",
       "             3              1              1              1              2 \n",
       "            23             24             29              3              5 \n",
       "             2              1              1              1              1 \n",
       "             6            8,5 Sem informação \n",
       "             1              1              3 "
      ]
     },
     "metadata": {},
     "output_type": "display_data"
    }
   ],
   "source": [
    "table(cg[, 'Período de observação (meses)'])"
   ]
  },
  {
   "cell_type": "code",
   "execution_count": 150,
   "metadata": {},
   "outputs": [],
   "source": [
    "cg <- cg[!grepl('Sem', cg[,'Período de observação (meses)']),]\n",
    "\n",
    "cg[,'Período de observação (meses)'] <- as.numeric(sub(',', '.', cg[,'Período de observação (meses)']))"
   ]
  },
  {
   "cell_type": "code",
   "execution_count": 151,
   "metadata": {},
   "outputs": [
    {
     "data": {
      "text/html": [
       "<style>\n",
       ".list-inline {list-style: none; margin:0; padding: 0}\n",
       ".list-inline>li {display: inline-block}\n",
       ".list-inline>li:not(:last-child)::after {content: \"\\00b7\"; padding: 0 .5ex}\n",
       "</style>\n",
       "<ol class=list-inline><li>6</li><li>12</li><li>29</li><li>8.5</li><li>1</li><li>2</li><li>1</li><li>13.5</li><li>2</li><li>1</li><li>23</li><li>3</li><li>24</li><li>23</li><li>5</li><li>1.5</li></ol>\n"
      ],
      "text/latex": [
       "\\begin{enumerate*}\n",
       "\\item 6\n",
       "\\item 12\n",
       "\\item 29\n",
       "\\item 8.5\n",
       "\\item 1\n",
       "\\item 2\n",
       "\\item 1\n",
       "\\item 13.5\n",
       "\\item 2\n",
       "\\item 1\n",
       "\\item 23\n",
       "\\item 3\n",
       "\\item 24\n",
       "\\item 23\n",
       "\\item 5\n",
       "\\item 1.5\n",
       "\\end{enumerate*}\n"
      ],
      "text/markdown": [
       "1. 6\n",
       "2. 12\n",
       "3. 29\n",
       "4. 8.5\n",
       "5. 1\n",
       "6. 2\n",
       "7. 1\n",
       "8. 13.5\n",
       "9. 2\n",
       "10. 1\n",
       "11. 23\n",
       "12. 3\n",
       "13. 24\n",
       "14. 23\n",
       "15. 5\n",
       "16. 1.5\n",
       "\n",
       "\n"
      ],
      "text/plain": [
       " [1]  6.0 12.0 29.0  8.5  1.0  2.0  1.0 13.5  2.0  1.0 23.0  3.0 24.0 23.0  5.0\n",
       "[16]  1.5"
      ]
     },
     "metadata": {},
     "output_type": "display_data"
    }
   ],
   "source": [
    "cg[,'Período de observação (meses)']"
   ]
  },
  {
   "cell_type": "code",
   "execution_count": 152,
   "metadata": {},
   "outputs": [
    {
     "data": {
      "text/html": [
       "<style>\n",
       ".list-inline {list-style: none; margin:0; padding: 0}\n",
       ".list-inline>li {display: inline-block}\n",
       ".list-inline>li:not(:last-child)::after {content: \"\\00b7\"; padding: 0 .5ex}\n",
       "</style>\n",
       "<ol class=list-inline><li>16</li><li>16</li></ol>\n"
      ],
      "text/latex": [
       "\\begin{enumerate*}\n",
       "\\item 16\n",
       "\\item 16\n",
       "\\end{enumerate*}\n"
      ],
      "text/markdown": [
       "1. 16\n",
       "2. 16\n",
       "\n",
       "\n"
      ],
      "text/plain": [
       "[1] 16 16"
      ]
     },
     "metadata": {},
     "output_type": "display_data"
    }
   ],
   "source": [
    "dim(cg)"
   ]
  },
  {
   "cell_type": "code",
   "execution_count": 153,
   "metadata": {},
   "outputs": [
    {
     "data": {
      "text/plain": [
       "\n",
       "           Não Sem informação            Sim              X \n",
       "             6              0              8              2 "
      ]
     },
     "metadata": {},
     "output_type": "display_data"
    }
   ],
   "source": [
    "table(cg[,'Linfonodo positivo'])"
   ]
  },
  {
   "cell_type": "code",
   "execution_count": 154,
   "metadata": {},
   "outputs": [
    {
     "data": {
      "text/plain": [
       "\n",
       "           não            Não Sem informação            sim            Sim \n",
       "             1              2              0              2             11 "
      ]
     },
     "metadata": {},
     "output_type": "display_data"
    }
   ],
   "source": [
    "table(cg[,'Observação óbito'])"
   ]
  },
  {
   "cell_type": "code",
   "execution_count": 155,
   "metadata": {},
   "outputs": [
    {
     "data": {
      "text/html": [
       "<table class=\"dataframe\">\n",
       "<caption>A data.frame: 0 × 16</caption>\n",
       "<thead>\n",
       "\t<tr><th scope=col>Registro HC</th><th scope=col>Sexo</th><th scope=col>Idade</th><th scope=col>Diagnóstico</th><th scope=col>Linfonodo positivo</th><th scope=col>Quimioterapia</th><th scope=col>Radioterapia</th><th scope=col>Classificação T (tamanho do turmor)</th><th scope=col>Metástase</th><th scope=col>TNM</th><th scope=col>Estágio do câncer</th><th scope=col>Observação óbito</th><th scope=col>Data do óbito</th><th scope=col>Data de último contato</th><th scope=col>Data de início da observação</th><th scope=col>Período de observação (meses)</th></tr>\n",
       "\t<tr><th scope=col>&lt;fct&gt;</th><th scope=col>&lt;fct&gt;</th><th scope=col>&lt;int&gt;</th><th scope=col>&lt;fct&gt;</th><th scope=col>&lt;fct&gt;</th><th scope=col>&lt;fct&gt;</th><th scope=col>&lt;fct&gt;</th><th scope=col>&lt;fct&gt;</th><th scope=col>&lt;fct&gt;</th><th scope=col>&lt;fct&gt;</th><th scope=col>&lt;fct&gt;</th><th scope=col>&lt;fct&gt;</th><th scope=col>&lt;fct&gt;</th><th scope=col>&lt;fct&gt;</th><th scope=col>&lt;fct&gt;</th><th scope=col>&lt;dbl&gt;</th></tr>\n",
       "</thead>\n",
       "<tbody>\n",
       "</tbody>\n",
       "</table>\n"
      ],
      "text/latex": [
       "A data.frame: 0 × 16\n",
       "\\begin{tabular}{llllllllllllllll}\n",
       " Registro HC & Sexo & Idade & Diagnóstico & Linfonodo positivo & Quimioterapia & Radioterapia & Classificação T (tamanho do turmor) & Metástase & TNM & Estágio do câncer & Observação óbito & Data do óbito & Data de último contato & Data de início da observação & Período de observação (meses)\\\\\n",
       " <fct> & <fct> & <int> & <fct> & <fct> & <fct> & <fct> & <fct> & <fct> & <fct> & <fct> & <fct> & <fct> & <fct> & <fct> & <dbl>\\\\\n",
       "\\hline\n",
       "\\end{tabular}\n"
      ],
      "text/markdown": [
       "\n",
       "A data.frame: 0 × 16\n",
       "\n",
       "| Registro HC &lt;fct&gt; | Sexo &lt;fct&gt; | Idade &lt;int&gt; | Diagnóstico &lt;fct&gt; | Linfonodo positivo &lt;fct&gt; | Quimioterapia &lt;fct&gt; | Radioterapia &lt;fct&gt; | Classificação T (tamanho do turmor) &lt;fct&gt; | Metástase &lt;fct&gt; | TNM &lt;fct&gt; | Estágio do câncer &lt;fct&gt; | Observação óbito &lt;fct&gt; | Data do óbito &lt;fct&gt; | Data de último contato &lt;fct&gt; | Data de início da observação &lt;fct&gt; | Período de observação (meses) &lt;dbl&gt; |\n",
       "|---|---|---|---|---|---|---|---|---|---|---|---|---|---|---|---|\n",
       "\n"
      ],
      "text/plain": [
       "     Registro HC Sexo Idade Diagnóstico Linfonodo positivo Quimioterapia\n",
       "     Radioterapia Classificação T (tamanho do turmor) Metástase TNM\n",
       "     Estágio do câncer Observação óbito Data do óbito Data de último contato\n",
       "     Data de início da observação Período de observação (meses)"
      ]
     },
     "metadata": {},
     "output_type": "display_data"
    }
   ],
   "source": [
    "cg[grep('Sem', cg[,'Observação óbito']),]"
   ]
  },
  {
   "cell_type": "code",
   "execution_count": 156,
   "metadata": {},
   "outputs": [
    {
     "data": {
      "text/plain": [
       "\n",
       "           não            Não Sem informação            sim            Sim \n",
       "             1              2              0              2             11 "
      ]
     },
     "metadata": {},
     "output_type": "display_data"
    }
   ],
   "source": [
    "cg <- cg[!grepl('Sem', cg[,'Observação óbito']),]\n",
    "table(cg[,'Observação óbito'])"
   ]
  },
  {
   "cell_type": "code",
   "execution_count": 157,
   "metadata": {},
   "outputs": [
    {
     "data": {
      "text/html": [
       "<style>\n",
       ".list-inline {list-style: none; margin:0; padding: 0}\n",
       ".list-inline>li {display: inline-block}\n",
       ".list-inline>li:not(:last-child)::after {content: \"\\00b7\"; padding: 0 .5ex}\n",
       "</style>\n",
       "<ol class=list-inline><li>1</li><li>2</li><li>4</li><li>5</li><li>6</li><li>7</li><li>8</li><li>9</li><li>10</li><li>12</li><li>14</li><li>15</li><li>16</li></ol>\n"
      ],
      "text/latex": [
       "\\begin{enumerate*}\n",
       "\\item 1\n",
       "\\item 2\n",
       "\\item 4\n",
       "\\item 5\n",
       "\\item 6\n",
       "\\item 7\n",
       "\\item 8\n",
       "\\item 9\n",
       "\\item 10\n",
       "\\item 12\n",
       "\\item 14\n",
       "\\item 15\n",
       "\\item 16\n",
       "\\end{enumerate*}\n"
      ],
      "text/markdown": [
       "1. 1\n",
       "2. 2\n",
       "3. 4\n",
       "4. 5\n",
       "5. 6\n",
       "6. 7\n",
       "7. 8\n",
       "8. 9\n",
       "9. 10\n",
       "10. 12\n",
       "11. 14\n",
       "12. 15\n",
       "13. 16\n",
       "\n",
       "\n"
      ],
      "text/plain": [
       " [1]  1  2  4  5  6  7  8  9 10 12 14 15 16"
      ]
     },
     "metadata": {},
     "output_type": "display_data"
    }
   ],
   "source": [
    "cg$status <- 0\n",
    "\n",
    "grep('sim|Sim', cg[,'Observação óbito'])"
   ]
  },
  {
   "cell_type": "code",
   "execution_count": 158,
   "metadata": {},
   "outputs": [
    {
     "data": {
      "text/plain": [
       "\n",
       " 0  1 \n",
       " 3 13 "
      ]
     },
     "metadata": {},
     "output_type": "display_data"
    }
   ],
   "source": [
    "cg[grep('sim|Sim', cg[,'Observação óbito']), 'status'] <- 1\n",
    "\n",
    "table(cg$status)"
   ]
  },
  {
   "cell_type": "code",
   "execution_count": 159,
   "metadata": {},
   "outputs": [],
   "source": [
    "cg$lymphnode <- cg[,'Linfonodo positivo']"
   ]
  },
  {
   "cell_type": "code",
   "execution_count": 160,
   "metadata": {},
   "outputs": [
    {
     "data": {
      "text/plain": [
       "\n",
       "           Não Sem informação            Sim              X \n",
       "             6              0              8              2 "
      ]
     },
     "metadata": {},
     "output_type": "display_data"
    }
   ],
   "source": [
    "cg[cg[,'Linfonodo positivo']=='sim', 'lymphnode'] <- 'Sim'\n",
    "cg[cg[,'Linfonodo positivo']=='não', 'lymphnode'] <- 'Não'\n",
    "\n",
    "table(cg$lymphnode)"
   ]
  },
  {
   "cell_type": "code",
   "execution_count": 161,
   "metadata": {},
   "outputs": [
    {
     "data": {
      "text/html": [
       "<style>\n",
       ".list-inline {list-style: none; margin:0; padding: 0}\n",
       ".list-inline>li {display: inline-block}\n",
       ".list-inline>li:not(:last-child)::after {content: \"\\00b7\"; padding: 0 .5ex}\n",
       "</style>\n",
       "<ol class=list-inline><li>Não</li><li>Não</li><li>Não</li><li>Sim</li><li>Sim</li><li>Não</li><li>Sim</li><li>Não</li><li>Sim</li><li>Não</li><li>Sim</li><li>Sim</li><li>Sim</li><li>Sim</li></ol>\n",
       "\n",
       "<details>\n",
       "\t<summary style=display:list-item;cursor:pointer>\n",
       "\t\t<strong>Levels</strong>:\n",
       "\t</summary>\n",
       "\t<style>\n",
       "\t.list-inline {list-style: none; margin:0; padding: 0}\n",
       "\t.list-inline>li {display: inline-block}\n",
       "\t.list-inline>li:not(:last-child)::after {content: \"\\00b7\"; padding: 0 .5ex}\n",
       "\t</style>\n",
       "\t<ol class=list-inline><li>'Não'</li><li>'Sem informação'</li><li>'Sim'</li><li>'X'</li></ol>\n",
       "</details>"
      ],
      "text/latex": [
       "\\begin{enumerate*}\n",
       "\\item Não\n",
       "\\item Não\n",
       "\\item Não\n",
       "\\item Sim\n",
       "\\item Sim\n",
       "\\item Não\n",
       "\\item Sim\n",
       "\\item Não\n",
       "\\item Sim\n",
       "\\item Não\n",
       "\\item Sim\n",
       "\\item Sim\n",
       "\\item Sim\n",
       "\\item Sim\n",
       "\\end{enumerate*}\n",
       "\n",
       "\\emph{Levels}: \\begin{enumerate*}\n",
       "\\item 'Não'\n",
       "\\item 'Sem informação'\n",
       "\\item 'Sim'\n",
       "\\item 'X'\n",
       "\\end{enumerate*}\n"
      ],
      "text/markdown": [
       "1. Não\n",
       "2. Não\n",
       "3. Não\n",
       "4. Sim\n",
       "5. Sim\n",
       "6. Não\n",
       "7. Sim\n",
       "8. Não\n",
       "9. Sim\n",
       "10. Não\n",
       "11. Sim\n",
       "12. Sim\n",
       "13. Sim\n",
       "14. Sim\n",
       "\n",
       "\n",
       "\n",
       "**Levels**: 1. 'Não'\n",
       "2. 'Sem informação'\n",
       "3. 'Sim'\n",
       "4. 'X'\n",
       "\n",
       "\n"
      ],
      "text/plain": [
       " [1] Não Não Não Sim Sim Não Sim Não Sim Não Sim Sim Sim Sim\n",
       "Levels: Não Sem informação Sim X"
      ]
     },
     "metadata": {},
     "output_type": "display_data"
    }
   ],
   "source": [
    "cg[!grepl('Sem|X', cg[,'Linfonodo positivo']), 'lymphnode']"
   ]
  },
  {
   "cell_type": "code",
   "execution_count": 162,
   "metadata": {},
   "outputs": [],
   "source": [
    "cg$time <- cg[, 'Período de observação (meses)']"
   ]
  },
  {
   "cell_type": "code",
   "execution_count": 163,
   "metadata": {},
   "outputs": [
    {
     "data": {
      "image/png": "[encoded data removed]",
      "text/plain": [
       "plot without title"
      ]
     },
     "metadata": {
      "image/png": {
       "height": 420,
       "width": 420
      }
     },
     "output_type": "display_data"
    }
   ],
   "source": [
    "fit_lymph <- survfit(Surv(time, status) ~ lymphnode, data = cg[!grepl('Sem|X', cg[,'Linfonodo positivo']),])\n",
    "ggsurvplot(fit_lymph, data = cg[!grepl('Sem|X', cg[,'Linfonodo positivo']),], title='Lymph Node', pval=TRUE)"
   ]
  },
  {
   "cell_type": "code",
   "execution_count": 164,
   "metadata": {},
   "outputs": [
    {
     "data": {
      "text/plain": [
       "\n",
       "           Não Sem informação            Sim \n",
       "             9              0              7 "
      ]
     },
     "metadata": {},
     "output_type": "display_data"
    }
   ],
   "source": [
    "table(cg[,'Quimioterapia'])"
   ]
  },
  {
   "cell_type": "code",
   "execution_count": 166,
   "metadata": {},
   "outputs": [],
   "source": [
    "cg$chemo <- cg[,'Quimioterapia']"
   ]
  },
  {
   "cell_type": "code",
   "execution_count": 167,
   "metadata": {},
   "outputs": [
    {
     "data": {
      "image/png": "[encoded data removed]",
      "text/plain": [
       "plot without title"
      ]
     },
     "metadata": {
      "image/png": {
       "height": 420,
       "width": 420
      }
     },
     "output_type": "display_data"
    }
   ],
   "source": [
    "fit_chemo <- survfit(Surv(time, status) ~ chemo, data = cg)\n",
    "ggsurvplot(fit_chemo, data = cg, title='Chemotherapy', pval=TRUE)"
   ]
  },
  {
   "cell_type": "code",
   "execution_count": 168,
   "metadata": {},
   "outputs": [
    {
     "data": {
      "text/plain": [
       "\n",
       "           Não           Não  Sem informação            Sim \n",
       "            11              1              0              4 "
      ]
     },
     "metadata": {},
     "output_type": "display_data"
    }
   ],
   "source": [
    "table(cg[,'Radioterapia'])"
   ]
  },
  {
   "cell_type": "code",
   "execution_count": 169,
   "metadata": {},
   "outputs": [
    {
     "data": {
      "text/html": [
       "<style>\n",
       ".list-inline {list-style: none; margin:0; padding: 0}\n",
       ".list-inline>li {display: inline-block}\n",
       ".list-inline>li:not(:last-child)::after {content: \"\\00b7\"; padding: 0 .5ex}\n",
       "</style>\n",
       "<ol class=list-inline><li>Não</li><li>Não</li><li>Não</li><li>Não</li><li>Não</li><li>Não</li><li>Não</li><li>Não</li><li>Não</li><li>Não</li><li>Sim</li><li>Não </li><li>Não</li><li>Sim</li><li>Sim</li><li>Sim</li></ol>\n",
       "\n",
       "<details>\n",
       "\t<summary style=display:list-item;cursor:pointer>\n",
       "\t\t<strong>Levels</strong>:\n",
       "\t</summary>\n",
       "\t<style>\n",
       "\t.list-inline {list-style: none; margin:0; padding: 0}\n",
       "\t.list-inline>li {display: inline-block}\n",
       "\t.list-inline>li:not(:last-child)::after {content: \"\\00b7\"; padding: 0 .5ex}\n",
       "\t</style>\n",
       "\t<ol class=list-inline><li>'Não'</li><li>'Não '</li><li>'Sem informação'</li><li>'Sim'</li></ol>\n",
       "</details>"
      ],
      "text/latex": [
       "\\begin{enumerate*}\n",
       "\\item Não\n",
       "\\item Não\n",
       "\\item Não\n",
       "\\item Não\n",
       "\\item Não\n",
       "\\item Não\n",
       "\\item Não\n",
       "\\item Não\n",
       "\\item Não\n",
       "\\item Não\n",
       "\\item Sim\n",
       "\\item Não \n",
       "\\item Não\n",
       "\\item Sim\n",
       "\\item Sim\n",
       "\\item Sim\n",
       "\\end{enumerate*}\n",
       "\n",
       "\\emph{Levels}: \\begin{enumerate*}\n",
       "\\item 'Não'\n",
       "\\item 'Não '\n",
       "\\item 'Sem informação'\n",
       "\\item 'Sim'\n",
       "\\end{enumerate*}\n"
      ],
      "text/markdown": [
       "1. Não\n",
       "2. Não\n",
       "3. Não\n",
       "4. Não\n",
       "5. Não\n",
       "6. Não\n",
       "7. Não\n",
       "8. Não\n",
       "9. Não\n",
       "10. Não\n",
       "11. Sim\n",
       "12. Não \n",
       "13. Não\n",
       "14. Sim\n",
       "15. Sim\n",
       "16. Sim\n",
       "\n",
       "\n",
       "\n",
       "**Levels**: 1. 'Não'\n",
       "2. 'Não '\n",
       "3. 'Sem informação'\n",
       "4. 'Sim'\n",
       "\n",
       "\n"
      ],
      "text/plain": [
       " [1] Não  Não  Não  Não  Não  Não  Não  Não  Não  Não  Sim  Não  Não  Sim  Sim \n",
       "[16] Sim \n",
       "Levels: Não Não  Sem informação Sim"
      ]
     },
     "metadata": {},
     "output_type": "display_data"
    }
   ],
   "source": [
    "cg[,'Radioterapia']"
   ]
  },
  {
   "cell_type": "code",
   "execution_count": 170,
   "metadata": {},
   "outputs": [
    {
     "data": {
      "text/plain": [
       "\n",
       "           Não           Não  Sem informação            Sim \n",
       "            12              0              0              4 "
      ]
     },
     "metadata": {},
     "output_type": "display_data"
    }
   ],
   "source": [
    "cg$radio <- cg[,'Radioterapia']\n",
    "\n",
    "cg[cg[,'Radioterapia']!='Sim', 'radio'] <- 'Não' \n",
    "\n",
    "table(cg$radio)"
   ]
  },
  {
   "cell_type": "code",
   "execution_count": 171,
   "metadata": {},
   "outputs": [
    {
     "data": {
      "image/png": "[encoded data removed]",
      "text/plain": [
       "plot without title"
      ]
     },
     "metadata": {
      "image/png": {
       "height": 420,
       "width": 420
      }
     },
     "output_type": "display_data"
    }
   ],
   "source": [
    "fit_radio <- survfit(Surv(time, status) ~ radio, data = cg)\n",
    "ggsurvplot(fit_radio, data = cg, title='Radiotherapy', pval=TRUE)"
   ]
  },
  {
   "cell_type": "code",
   "execution_count": 172,
   "metadata": {},
   "outputs": [
    {
     "data": {
      "text/plain": [
       "\n",
       "           Não Sem informação            Sim \n",
       "            12              0              4 "
      ]
     },
     "metadata": {},
     "output_type": "display_data"
    }
   ],
   "source": [
    "table(cg[,'Metástase'])"
   ]
  },
  {
   "cell_type": "code",
   "execution_count": 173,
   "metadata": {},
   "outputs": [
    {
     "data": {
      "image/png": "[encoded data removed]",
      "text/plain": [
       "plot without title"
      ]
     },
     "metadata": {
      "image/png": {
       "height": 420,
       "width": 420
      }
     },
     "output_type": "display_data"
    }
   ],
   "source": [
    "fit_meta <- survfit(Surv(time, status) ~ Metástase, data = cg)\n",
    "ggsurvplot(fit_meta, data = cg, title='Metastasis', pval=TRUE)"
   ]
  },
  {
   "cell_type": "code",
   "execution_count": 174,
   "metadata": {},
   "outputs": [
    {
     "data": {
      "text/html": [
       "<style>\n",
       ".list-inline {list-style: none; margin:0; padding: 0}\n",
       ".list-inline>li {display: inline-block}\n",
       ".list-inline>li:not(:last-child)::after {content: \"\\00b7\"; padding: 0 .5ex}\n",
       "</style>\n",
       "<ol class=list-inline><li>TRUE</li><li>FALSE</li><li>FALSE</li><li>FALSE</li><li>FALSE</li><li>FALSE</li><li>FALSE</li><li>FALSE</li><li>TRUE</li><li>TRUE</li><li>FALSE</li><li>FALSE</li><li>FALSE</li><li>FALSE</li><li>FALSE</li><li>FALSE</li></ol>\n"
      ],
      "text/latex": [
       "\\begin{enumerate*}\n",
       "\\item TRUE\n",
       "\\item FALSE\n",
       "\\item FALSE\n",
       "\\item FALSE\n",
       "\\item FALSE\n",
       "\\item FALSE\n",
       "\\item FALSE\n",
       "\\item FALSE\n",
       "\\item TRUE\n",
       "\\item TRUE\n",
       "\\item FALSE\n",
       "\\item FALSE\n",
       "\\item FALSE\n",
       "\\item FALSE\n",
       "\\item FALSE\n",
       "\\item FALSE\n",
       "\\end{enumerate*}\n"
      ],
      "text/markdown": [
       "1. TRUE\n",
       "2. FALSE\n",
       "3. FALSE\n",
       "4. FALSE\n",
       "5. FALSE\n",
       "6. FALSE\n",
       "7. FALSE\n",
       "8. FALSE\n",
       "9. TRUE\n",
       "10. TRUE\n",
       "11. FALSE\n",
       "12. FALSE\n",
       "13. FALSE\n",
       "14. FALSE\n",
       "15. FALSE\n",
       "16. FALSE\n",
       "\n",
       "\n"
      ],
      "text/plain": [
       " [1]  TRUE FALSE FALSE FALSE FALSE FALSE FALSE FALSE  TRUE  TRUE FALSE FALSE\n",
       "[13] FALSE FALSE FALSE FALSE"
      ]
     },
     "metadata": {},
     "output_type": "display_data"
    }
   ],
   "source": [
    "as.numeric(cg[,'Classificação T (tamanho do turmor)'])>4"
   ]
  },
  {
   "cell_type": "code",
   "execution_count": 175,
   "metadata": {},
   "outputs": [
    {
     "data": {
      "text/html": [
       "<style>\n",
       ".list-inline {list-style: none; margin:0; padding: 0}\n",
       ".list-inline>li {display: inline-block}\n",
       ".list-inline>li:not(:last-child)::after {content: \"\\00b7\"; padding: 0 .5ex}\n",
       "</style>\n",
       "<ol class=list-inline><li>X</li><li>3</li><li>2</li><li>4</li><li>2</li><li>3</li><li>4</li><li>4</li><li>X</li><li>X</li><li>2</li><li>4</li><li>4</li><li>2</li><li>2</li><li>4</li></ol>\n",
       "\n",
       "<details>\n",
       "\t<summary style=display:list-item;cursor:pointer>\n",
       "\t\t<strong>Levels</strong>:\n",
       "\t</summary>\n",
       "\t<style>\n",
       "\t.list-inline {list-style: none; margin:0; padding: 0}\n",
       "\t.list-inline>li {display: inline-block}\n",
       "\t.list-inline>li:not(:last-child)::after {content: \"\\00b7\"; padding: 0 .5ex}\n",
       "\t</style>\n",
       "\t<ol class=list-inline><li>'2'</li><li>'3'</li><li>'4'</li><li>'Sem informação'</li><li>'X'</li></ol>\n",
       "</details>"
      ],
      "text/latex": [
       "\\begin{enumerate*}\n",
       "\\item X\n",
       "\\item 3\n",
       "\\item 2\n",
       "\\item 4\n",
       "\\item 2\n",
       "\\item 3\n",
       "\\item 4\n",
       "\\item 4\n",
       "\\item X\n",
       "\\item X\n",
       "\\item 2\n",
       "\\item 4\n",
       "\\item 4\n",
       "\\item 2\n",
       "\\item 2\n",
       "\\item 4\n",
       "\\end{enumerate*}\n",
       "\n",
       "\\emph{Levels}: \\begin{enumerate*}\n",
       "\\item '2'\n",
       "\\item '3'\n",
       "\\item '4'\n",
       "\\item 'Sem informação'\n",
       "\\item 'X'\n",
       "\\end{enumerate*}\n"
      ],
      "text/markdown": [
       "1. X\n",
       "2. 3\n",
       "3. 2\n",
       "4. 4\n",
       "5. 2\n",
       "6. 3\n",
       "7. 4\n",
       "8. 4\n",
       "9. X\n",
       "10. X\n",
       "11. 2\n",
       "12. 4\n",
       "13. 4\n",
       "14. 2\n",
       "15. 2\n",
       "16. 4\n",
       "\n",
       "\n",
       "\n",
       "**Levels**: 1. '2'\n",
       "2. '3'\n",
       "3. '4'\n",
       "4. 'Sem informação'\n",
       "5. 'X'\n",
       "\n",
       "\n"
      ],
      "text/plain": [
       " [1] X 3 2 4 2 3 4 4 X X 2 4 4 2 2 4\n",
       "Levels: 2 3 4 Sem informação X"
      ]
     },
     "metadata": {},
     "output_type": "display_data"
    }
   ],
   "source": [
    "cg[,'Classificação T (tamanho do turmor)']"
   ]
  },
  {
   "cell_type": "code",
   "execution_count": 177,
   "metadata": {},
   "outputs": [
    {
     "name": "stderr",
     "output_type": "stream",
     "text": [
      "Warning message in eval(expr, envir, enclos):\n",
      "“NAs introduced by coercion”\n"
     ]
    }
   ],
   "source": [
    "num <- as.numeric(as.character(cg[,'Classificação T (tamanho do turmor)']))"
   ]
  },
  {
   "cell_type": "code",
   "execution_count": 178,
   "metadata": {},
   "outputs": [
    {
     "data": {
      "text/html": [
       "<table class=\"dataframe\">\n",
       "<caption>A data.frame: 16 × 2</caption>\n",
       "<thead>\n",
       "\t<tr><th></th><th scope=col>tumor</th><th scope=col>Classificação T (tamanho do turmor)</th></tr>\n",
       "\t<tr><th></th><th scope=col>&lt;chr&gt;</th><th scope=col>&lt;fct&gt;</th></tr>\n",
       "</thead>\n",
       "<tbody>\n",
       "\t<tr><th scope=row>1</th><td>&gt;=4</td><td>X</td></tr>\n",
       "\t<tr><th scope=row>2</th><td>&lt;4 </td><td>3</td></tr>\n",
       "\t<tr><th scope=row>3</th><td>&lt;4 </td><td>2</td></tr>\n",
       "\t<tr><th scope=row>4</th><td>&gt;=4</td><td>4</td></tr>\n",
       "\t<tr><th scope=row>5</th><td>&lt;4 </td><td>2</td></tr>\n",
       "\t<tr><th scope=row>6</th><td>&lt;4 </td><td>3</td></tr>\n",
       "\t<tr><th scope=row>7</th><td>&gt;=4</td><td>4</td></tr>\n",
       "\t<tr><th scope=row>9</th><td>&gt;=4</td><td>4</td></tr>\n",
       "\t<tr><th scope=row>10</th><td>&gt;=4</td><td>X</td></tr>\n",
       "\t<tr><th scope=row>12</th><td>&gt;=4</td><td>X</td></tr>\n",
       "\t<tr><th scope=row>13</th><td>&lt;4 </td><td>2</td></tr>\n",
       "\t<tr><th scope=row>14</th><td>&gt;=4</td><td>4</td></tr>\n",
       "\t<tr><th scope=row>15</th><td>&gt;=4</td><td>4</td></tr>\n",
       "\t<tr><th scope=row>16</th><td>&lt;4 </td><td>2</td></tr>\n",
       "\t<tr><th scope=row>17</th><td>&lt;4 </td><td>2</td></tr>\n",
       "\t<tr><th scope=row>18</th><td>&gt;=4</td><td>4</td></tr>\n",
       "</tbody>\n",
       "</table>\n"
      ],
      "text/latex": [
       "A data.frame: 16 × 2\n",
       "\\begin{tabular}{r|ll}\n",
       "  & tumor & Classificação T (tamanho do turmor)\\\\\n",
       "  & <chr> & <fct>\\\\\n",
       "\\hline\n",
       "\t1 & >=4 & X\\\\\n",
       "\t2 & <4  & 3\\\\\n",
       "\t3 & <4  & 2\\\\\n",
       "\t4 & >=4 & 4\\\\\n",
       "\t5 & <4  & 2\\\\\n",
       "\t6 & <4  & 3\\\\\n",
       "\t7 & >=4 & 4\\\\\n",
       "\t9 & >=4 & 4\\\\\n",
       "\t10 & >=4 & X\\\\\n",
       "\t12 & >=4 & X\\\\\n",
       "\t13 & <4  & 2\\\\\n",
       "\t14 & >=4 & 4\\\\\n",
       "\t15 & >=4 & 4\\\\\n",
       "\t16 & <4  & 2\\\\\n",
       "\t17 & <4  & 2\\\\\n",
       "\t18 & >=4 & 4\\\\\n",
       "\\end{tabular}\n"
      ],
      "text/markdown": [
       "\n",
       "A data.frame: 16 × 2\n",
       "\n",
       "| <!--/--> | tumor &lt;chr&gt; | Classificação T (tamanho do turmor) &lt;fct&gt; |\n",
       "|---|---|---|\n",
       "| 1 | &gt;=4 | X |\n",
       "| 2 | &lt;4  | 3 |\n",
       "| 3 | &lt;4  | 2 |\n",
       "| 4 | &gt;=4 | 4 |\n",
       "| 5 | &lt;4  | 2 |\n",
       "| 6 | &lt;4  | 3 |\n",
       "| 7 | &gt;=4 | 4 |\n",
       "| 9 | &gt;=4 | 4 |\n",
       "| 10 | &gt;=4 | X |\n",
       "| 12 | &gt;=4 | X |\n",
       "| 13 | &lt;4  | 2 |\n",
       "| 14 | &gt;=4 | 4 |\n",
       "| 15 | &gt;=4 | 4 |\n",
       "| 16 | &lt;4  | 2 |\n",
       "| 17 | &lt;4  | 2 |\n",
       "| 18 | &gt;=4 | 4 |\n",
       "\n"
      ],
      "text/plain": [
       "   tumor Classificação T (tamanho do turmor)\n",
       "1  >=4   X                                  \n",
       "2  <4    3                                  \n",
       "3  <4    2                                  \n",
       "4  >=4   4                                  \n",
       "5  <4    2                                  \n",
       "6  <4    3                                  \n",
       "7  >=4   4                                  \n",
       "9  >=4   4                                  \n",
       "10 >=4   X                                  \n",
       "12 >=4   X                                  \n",
       "13 <4    2                                  \n",
       "14 >=4   4                                  \n",
       "15 >=4   4                                  \n",
       "16 <4    2                                  \n",
       "17 <4    2                                  \n",
       "18 >=4   4                                  "
      ]
     },
     "metadata": {},
     "output_type": "display_data"
    }
   ],
   "source": [
    "cg$tumor <- '>=4'\n",
    "\n",
    "cg[num<4 & !is.na(num), 'tumor'] <- '<4'\n",
    "\n",
    "cg[,c('tumor', 'Classificação T (tamanho do turmor)')]"
   ]
  },
  {
   "cell_type": "code",
   "execution_count": 179,
   "metadata": {},
   "outputs": [
    {
     "data": {
      "text/html": [
       "<table class=\"dataframe\">\n",
       "<caption>A data.frame: 13 × 2</caption>\n",
       "<thead>\n",
       "\t<tr><th></th><th scope=col>tumor</th><th scope=col>Classificação T (tamanho do turmor)</th></tr>\n",
       "\t<tr><th></th><th scope=col>&lt;chr&gt;</th><th scope=col>&lt;fct&gt;</th></tr>\n",
       "</thead>\n",
       "<tbody>\n",
       "\t<tr><th scope=row>2</th><td>&lt;4 </td><td>3</td></tr>\n",
       "\t<tr><th scope=row>3</th><td>&lt;4 </td><td>2</td></tr>\n",
       "\t<tr><th scope=row>4</th><td>&gt;=4</td><td>4</td></tr>\n",
       "\t<tr><th scope=row>5</th><td>&lt;4 </td><td>2</td></tr>\n",
       "\t<tr><th scope=row>6</th><td>&lt;4 </td><td>3</td></tr>\n",
       "\t<tr><th scope=row>7</th><td>&gt;=4</td><td>4</td></tr>\n",
       "\t<tr><th scope=row>9</th><td>&gt;=4</td><td>4</td></tr>\n",
       "\t<tr><th scope=row>13</th><td>&lt;4 </td><td>2</td></tr>\n",
       "\t<tr><th scope=row>14</th><td>&gt;=4</td><td>4</td></tr>\n",
       "\t<tr><th scope=row>15</th><td>&gt;=4</td><td>4</td></tr>\n",
       "\t<tr><th scope=row>16</th><td>&lt;4 </td><td>2</td></tr>\n",
       "\t<tr><th scope=row>17</th><td>&lt;4 </td><td>2</td></tr>\n",
       "\t<tr><th scope=row>18</th><td>&gt;=4</td><td>4</td></tr>\n",
       "</tbody>\n",
       "</table>\n"
      ],
      "text/latex": [
       "A data.frame: 13 × 2\n",
       "\\begin{tabular}{r|ll}\n",
       "  & tumor & Classificação T (tamanho do turmor)\\\\\n",
       "  & <chr> & <fct>\\\\\n",
       "\\hline\n",
       "\t2 & <4  & 3\\\\\n",
       "\t3 & <4  & 2\\\\\n",
       "\t4 & >=4 & 4\\\\\n",
       "\t5 & <4  & 2\\\\\n",
       "\t6 & <4  & 3\\\\\n",
       "\t7 & >=4 & 4\\\\\n",
       "\t9 & >=4 & 4\\\\\n",
       "\t13 & <4  & 2\\\\\n",
       "\t14 & >=4 & 4\\\\\n",
       "\t15 & >=4 & 4\\\\\n",
       "\t16 & <4  & 2\\\\\n",
       "\t17 & <4  & 2\\\\\n",
       "\t18 & >=4 & 4\\\\\n",
       "\\end{tabular}\n"
      ],
      "text/markdown": [
       "\n",
       "A data.frame: 13 × 2\n",
       "\n",
       "| <!--/--> | tumor &lt;chr&gt; | Classificação T (tamanho do turmor) &lt;fct&gt; |\n",
       "|---|---|---|\n",
       "| 2 | &lt;4  | 3 |\n",
       "| 3 | &lt;4  | 2 |\n",
       "| 4 | &gt;=4 | 4 |\n",
       "| 5 | &lt;4  | 2 |\n",
       "| 6 | &lt;4  | 3 |\n",
       "| 7 | &gt;=4 | 4 |\n",
       "| 9 | &gt;=4 | 4 |\n",
       "| 13 | &lt;4  | 2 |\n",
       "| 14 | &gt;=4 | 4 |\n",
       "| 15 | &gt;=4 | 4 |\n",
       "| 16 | &lt;4  | 2 |\n",
       "| 17 | &lt;4  | 2 |\n",
       "| 18 | &gt;=4 | 4 |\n",
       "\n"
      ],
      "text/plain": [
       "   tumor Classificação T (tamanho do turmor)\n",
       "2  <4    3                                  \n",
       "3  <4    2                                  \n",
       "4  >=4   4                                  \n",
       "5  <4    2                                  \n",
       "6  <4    3                                  \n",
       "7  >=4   4                                  \n",
       "9  >=4   4                                  \n",
       "13 <4    2                                  \n",
       "14 >=4   4                                  \n",
       "15 >=4   4                                  \n",
       "16 <4    2                                  \n",
       "17 <4    2                                  \n",
       "18 >=4   4                                  "
      ]
     },
     "metadata": {},
     "output_type": "display_data"
    }
   ],
   "source": [
    "cg[!grepl('X|S', cg[,'Classificação T (tamanho do turmor)']),\n",
    "   c('tumor', 'Classificação T (tamanho do turmor)')]"
   ]
  },
  {
   "cell_type": "code",
   "execution_count": 180,
   "metadata": {},
   "outputs": [
    {
     "data": {
      "image/png": "[encoded data removed]",
      "text/plain": [
       "plot without title"
      ]
     },
     "metadata": {
      "image/png": {
       "height": 420,
       "width": 420
      }
     },
     "output_type": "display_data"
    }
   ],
   "source": [
    "fit_tumor <- survfit(Surv(time, status) ~ tumor, \n",
    "                     data = cg[!grepl('X|S', cg[,'Classificação T (tamanho do turmor)']),])\n",
    "\n",
    "ggsurvplot(fit_tumor, data = cg[!grepl('X|S', cg[,'Classificação T (tamanho do turmor)']),], \n",
    "           title='Tumor Size', pval=TRUE)"
   ]
  },
  {
   "cell_type": "code",
   "execution_count": 181,
   "metadata": {},
   "outputs": [
    {
     "data": {
      "text/html": [
       "<style>\n",
       ".list-inline {list-style: none; margin:0; padding: 0}\n",
       ".list-inline>li {display: inline-block}\n",
       ".list-inline>li:not(:last-child)::after {content: \"\\00b7\"; padding: 0 .5ex}\n",
       "</style>\n",
       "<ol class=list-inline><li>85</li><li>70</li><li>64</li><li>68</li><li>49</li><li>78</li><li>70</li><li>57</li><li>47</li><li>72</li><li>44</li><li>40</li><li>69</li><li>56</li><li>68</li><li>52</li></ol>\n"
      ],
      "text/latex": [
       "\\begin{enumerate*}\n",
       "\\item 85\n",
       "\\item 70\n",
       "\\item 64\n",
       "\\item 68\n",
       "\\item 49\n",
       "\\item 78\n",
       "\\item 70\n",
       "\\item 57\n",
       "\\item 47\n",
       "\\item 72\n",
       "\\item 44\n",
       "\\item 40\n",
       "\\item 69\n",
       "\\item 56\n",
       "\\item 68\n",
       "\\item 52\n",
       "\\end{enumerate*}\n"
      ],
      "text/markdown": [
       "1. 85\n",
       "2. 70\n",
       "3. 64\n",
       "4. 68\n",
       "5. 49\n",
       "6. 78\n",
       "7. 70\n",
       "8. 57\n",
       "9. 47\n",
       "10. 72\n",
       "11. 44\n",
       "12. 40\n",
       "13. 69\n",
       "14. 56\n",
       "15. 68\n",
       "16. 52\n",
       "\n",
       "\n"
      ],
      "text/plain": [
       " [1] 85 70 64 68 49 78 70 57 47 72 44 40 69 56 68 52"
      ]
     },
     "metadata": {},
     "output_type": "display_data"
    }
   ],
   "source": [
    "cg$Idade"
   ]
  },
  {
   "cell_type": "code",
   "execution_count": 184,
   "metadata": {},
   "outputs": [
    {
     "data": {
      "text/plain": [
       "\n",
       " <64 >=64 \n",
       "   7    9 "
      ]
     },
     "metadata": {},
     "output_type": "display_data"
    }
   ],
   "source": [
    "cg$age <- '>=64'\n",
    "cg[cg[,'Idade']<64, 'age'] <- '<64'\n",
    "\n",
    "table(cg$age)"
   ]
  },
  {
   "cell_type": "code",
   "execution_count": 185,
   "metadata": {},
   "outputs": [
    {
     "data": {
      "image/png": "[encoded data removed]",
      "text/plain": [
       "plot without title"
      ]
     },
     "metadata": {
      "image/png": {
       "height": 420,
       "width": 420
      }
     },
     "output_type": "display_data"
    }
   ],
   "source": [
    "fit_age <- survfit(Surv(time, status) ~ age, data = cg)\n",
    "ggsurvplot(fit_age, data = cg, title='Age', pval=TRUE)"
   ]
  },
  {
   "cell_type": "code",
   "execution_count": 186,
   "metadata": {},
   "outputs": [
    {
     "data": {
      "text/html": [
       "<strong>png:</strong> 2"
      ],
      "text/latex": [
       "\\textbf{png:} 2"
      ],
      "text/markdown": [
       "**png:** 2"
      ],
      "text/plain": [
       "png \n",
       "  2 "
      ]
     },
     "metadata": {},
     "output_type": "display_data"
    }
   ],
   "source": [
    "pdf('cg_survival_curves.pdf')\n",
    "ggsurvplot(fit_lymph, data = cg[!grepl('Sem|X', cg[,'Linfonodo positivo']),], title='Lymph Node', pval=TRUE)\n",
    "ggsurvplot(fit_chemo, data = cg, title='Chemotherapy', pval=TRUE)\n",
    "ggsurvplot(fit_radio, data = cg, title='Radiotherapy', pval=TRUE)\n",
    "ggsurvplot(fit_meta, data = cg, title='Metastasis', pval=TRUE)\n",
    "ggsurvplot(fit_tumor, data = cg[!grepl('X|S', cg[,'Classificação T (tamanho do turmor)']),], \n",
    "           title='Tumor Size', pval=TRUE)\n",
    "ggsurvplot(fit_age, data = cg, title='Age', pval=TRUE)\n",
    "dev.off()"
   ]
  },
  {
   "cell_type": "code",
   "execution_count": null,
   "metadata": {},
   "outputs": [],
   "source": []
  }
 ],
 "metadata": {
  "kernelspec": {
   "display_name": "R",
   "language": "R",
   "name": "ir"
  },
  "language_info": {
   "codemirror_mode": "r",
   "file_extension": ".r",
   "mimetype": "text/x-r-source",
   "name": "R",
   "pygments_lexer": "r",
   "version": "3.6.1"
  }
 },
 "nbformat": 4,
 "nbformat_minor": 4
}
